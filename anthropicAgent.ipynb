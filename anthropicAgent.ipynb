{
 "cells": [
  {
   "cell_type": "code",
   "execution_count": 7,
   "metadata": {},
   "outputs": [],
   "source": [
    "import os\n",
    "from dotenv import load_dotenv\n",
    "import requests\n",
    "\n",
    "# Load environment variables from .env file\n",
    "load_dotenv()\n",
    "\n",
    "# Get the API key from the environment\n",
    "anthropic_apiKey = os.getenv(\"ANTHROPIC_API_KEY\")"
   ]
  },
  {
   "cell_type": "code",
   "execution_count": 11,
   "metadata": {},
   "outputs": [],
   "source": [
    "from config import *"
   ]
  },
  {
   "cell_type": "code",
   "execution_count": 8,
   "metadata": {},
   "outputs": [
    {
     "name": "stdout",
     "output_type": "stream",
     "text": [
      "[TextBlock(text=\"Tears of ancient earth,\\nMinerals dissolved in time,\\nRivers carry salt to sea -\\nNature's briny paradigm.\\n\\nEons pass, waves roll on,\\nEach drop holds stories untold,\\nOf rocks worn down to grains,\\nMaking waters brackish, bold.\", type='text')]\n"
     ]
    }
   ],
   "source": [
    "import anthropic\n",
    "\n",
    "client = anthropic.Anthropic(\n",
    "    api_key=anthropic_apiKey\n",
    ")\n",
    "\n",
    "message = client.messages.create(\n",
    "    model=\"claude-3-5-sonnet-20241022\",\n",
    "    max_tokens=1000,\n",
    "    temperature=0,\n",
    "    system=IDENTITY,\n",
    "    messages=[\n",
    "        {\n",
    "            \"role\": \"user\",\n",
    "            \"content\": [\n",
    "                {\n",
    "                    \"type\": \"text\",\n",
    "                    \"text\": \"Why is the ocean salty?\"\n",
    "                }\n",
    "            ]\n",
    "        }\n",
    "    ]\n",
    ")\n",
    "print(message.content)"
   ]
  },
  {
   "cell_type": "code",
   "execution_count": 15,
   "metadata": {},
   "outputs": [
    {
     "ename": "ImportError",
     "evalue": "cannot import name 'get_quote' from 'config' (c:\\Users\\seba\\OneDrive\\OneSearch\\AnthropicAgent\\config.py)",
     "output_type": "error",
     "traceback": [
      "\u001b[1;31m---------------------------------------------------------------------------\u001b[0m",
      "\u001b[1;31mImportError\u001b[0m                               Traceback (most recent call last)",
      "Cell \u001b[1;32mIn[15], line 2\u001b[0m\n\u001b[0;32m      1\u001b[0m \u001b[38;5;28;01mfrom\u001b[39;00m \u001b[38;5;21;01manthropic\u001b[39;00m \u001b[38;5;28;01mimport\u001b[39;00m Anthropic\n\u001b[1;32m----> 2\u001b[0m \u001b[38;5;28;01mfrom\u001b[39;00m \u001b[38;5;21;01mconfig\u001b[39;00m \u001b[38;5;28;01mimport\u001b[39;00m IDENTITY, get_quote\n\u001b[0;32m      3\u001b[0m \u001b[38;5;28;01mfrom\u001b[39;00m \u001b[38;5;21;01mtools\u001b[39;00m \u001b[38;5;28;01mimport\u001b[39;00m TOOLS\n\u001b[0;32m      5\u001b[0m \u001b[38;5;28;01mclass\u001b[39;00m \u001b[38;5;21;01mChatBot\u001b[39;00m:\n",
      "\u001b[1;31mImportError\u001b[0m: cannot import name 'get_quote' from 'config' (c:\\Users\\seba\\OneDrive\\OneSearch\\AnthropicAgent\\config.py)"
     ]
    }
   ],
   "source": [
    "from anthropic import Anthropic\n",
    "from config import IDENTITY\n",
    "from tools import TOOLS, get_quote\n",
    "\n",
    "class ChatBot:\n",
    "   def __init__(self, session_state):\n",
    "       self.anthropic = Anthropic()\n",
    "       self.session_state = session_state\n",
    "\n",
    "   def generate_message(\n",
    "       self,\n",
    "       messages,\n",
    "       max_tokens,\n",
    "   ):\n",
    "       try:\n",
    "           response = self.anthropic.messages.create(\n",
    "               model=\"claude-3-5-sonnet-20241022\",\n",
    "               system=IDENTITY,\n",
    "               max_tokens=max_tokens,\n",
    "               messages=messages,\n",
    "               tools=TOOLS,\n",
    "           )\n",
    "           return response\n",
    "       except Exception as e:\n",
    "           return {\"error\": str(e)}\n",
    "\n",
    "   def process_user_input(self, user_input):\n",
    "       self.session_state.messages.append({\"role\": \"user\", \"content\": user_input})\n",
    "\n",
    "       response_message = self.generate_message(\n",
    "           messages=self.session_state.messages,\n",
    "           max_tokens=2048,\n",
    "       )\n",
    "\n",
    "       if \"error\" in response_message:\n",
    "           return f\"An error occurred: {response_message['error']}\"\n",
    "\n",
    "       if response_message.content[-1].type == \"tool_use\":\n",
    "           tool_use = response_message.content[-1]\n",
    "           func_name = tool_use.name\n",
    "           func_params = tool_use.input\n",
    "           tool_use_id = tool_use.id\n",
    "\n",
    "           result = self.handle_tool_use(func_name, func_params)\n",
    "           self.session_state.messages.append(\n",
    "               {\"role\": \"assistant\", \"content\": response_message.content}\n",
    "           )\n",
    "           self.session_state.messages.append({\n",
    "               \"role\": \"user\",\n",
    "               \"content\": [{\n",
    "                   \"type\": \"tool_result\",\n",
    "                   \"tool_use_id\": tool_use_id,\n",
    "                   \"content\": f\"{result}\",\n",
    "               }],\n",
    "           })\n",
    "\n",
    "           follow_up_response = self.generate_message(\n",
    "               messages=self.session_state.messages,\n",
    "               max_tokens=2048,\n",
    "           )\n",
    "\n",
    "           if \"error\" in follow_up_response:\n",
    "               return f\"An error occurred: {follow_up_response['error']}\"\n",
    "\n",
    "           response_text = follow_up_response.content[0].text\n",
    "           self.session_state.messages.append(\n",
    "               {\"role\": \"assistant\", \"content\": response_text}\n",
    "           )\n",
    "           return response_text\n",
    "      \n",
    "       elif response_message.content[0].type == \"text\":\n",
    "           response_text = response_message.content[0].text\n",
    "           self.session_state.messages.append(\n",
    "               {\"role\": \"assistant\", \"content\": response_text}\n",
    "           )\n",
    "           return response_text\n",
    "      \n",
    "       else:\n",
    "           raise Exception(\"An error occurred: Unexpected response type\")\n",
    "\n",
    "   def handle_tool_use(self, func_name, func_params):\n",
    "       if func_name == \"get_quote\":\n",
    "           premium = get_quote(**func_params)\n",
    "           return f\"Quote generated: ${premium:.2f} per month\"\n",
    "      \n",
    "       raise Exception(\"An unexpected tool was used\")\n"
   ]
  }
 ],
 "metadata": {
  "kernelspec": {
   "display_name": "Python 3",
   "language": "python",
   "name": "python3"
  },
  "language_info": {
   "name": "python",
   "version": "3.12.6"
  }
 },
 "nbformat": 4,
 "nbformat_minor": 2
}
